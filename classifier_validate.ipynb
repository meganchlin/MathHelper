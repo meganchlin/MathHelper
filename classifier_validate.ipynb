{
  "cells": [
    {
      "cell_type": "markdown",
      "metadata": {
        "id": "shMmF-5g4F2s"
      },
      "source": [
        "# classifier"
      ]
    },
    {
      "cell_type": "markdown",
      "metadata": {
        "id": "_bcFji9WrqMQ"
      },
      "source": [
        "**import**"
      ]
    },
    {
      "cell_type": "code",
      "execution_count": 7,
      "metadata": {
        "id": "IDW9KnfDxchg"
      },
      "outputs": [],
      "source": [
        "import os\n",
        "import numpy as np\n",
        "import matplotlib.pyplot as plt\n",
        "import tensorflow as tf\n",
        "import cv2"
      ]
    },
    {
      "cell_type": "markdown",
      "metadata": {
        "id": "H1p8h8qbyg3m"
      },
      "source": [
        "**functions**"
      ]
    },
    {
      "cell_type": "code",
      "execution_count": 8,
      "metadata": {
        "id": "yNMwg3U7y4rF"
      },
      "outputs": [],
      "source": [
        "import tensorflow.keras.preprocessing.image as tfimage\n",
        "\n",
        "def load_datasets(path):\n",
        "  clean = []\n",
        "  types = []\n",
        "  label = []\n",
        "\n",
        "  # loop over every folder\n",
        "  i = -1\n",
        "  k = 0\n",
        "  for folder in os.listdir(path):\n",
        "    i += 1\n",
        "    label.append(folder)\n",
        "    print(i, \": \", folder)\n",
        "    for file in os.listdir(path + '/' + folder):\n",
        "        # image = tfimage.load_img(path + '/' + folder + '/' + file, target_size=(256,256))\n",
        "        # image = tfimage.img_to_array(image).astype('float32') / 255\n",
        "        img = tfimage.load_img(path + '/' + folder + '/' + file)\n",
        "        img = cv2.imread(os.path.join(path,folder,file),cv2.IMREAD_GRAYSCALE) # Convert to Image to Grayscale bc contour\n",
        "        img=~img # Invert the bits of image 255 -> 0 / test the dataset\n",
        "        if img is not None:\n",
        "          ret,thresh=cv2.threshold(img,127,255,cv2.THRESH_BINARY) # THRESH_BINARY: Set bits > 127 to 1(white background) and <= 127 to 0(black) \n",
        "          ctrs, ret = cv2.findContours(thresh, cv2.RETR_EXTERNAL, cv2.CHAIN_APPROX_NONE) # determine object boundary, remove background\n",
        "          cnt=sorted(ctrs, key=lambda ctr: cv2.boundingRect(ctr)[0])\n",
        "          w=int(28)\n",
        "          h=int(28)\n",
        "          # maximum area of the rectangle\n",
        "          maxi=0\n",
        "          for c in cnt: # traverse in all the rectangles we have\n",
        "            x,y,w,h=cv2.boundingRect(c)\n",
        "            maxi=max(w*h,maxi)\n",
        "            if maxi==w*h:\n",
        "              x_max=x\n",
        "              y_max=y\n",
        "              w_max=w\n",
        "              h_max=h\n",
        "          im_crop= thresh[y_max:y_max+h_max+10, x_max:x_max+w_max+10] # add 10 extra margin to avoid error\n",
        "          im_resize = cv2.resize(im_crop,(28,28))\n",
        "          im_resize =  tfimage.img_to_array(im_resize).astype('float32') / 255\n",
        "          #im_resize=np.reshape(im_resize,(784,1)) #resize to (28,28)\n",
        "          clean.append(im_resize) # flat the matrix\n",
        "          types.append(i)\n",
        "\n",
        "  types = tf.one_hot(types, depth=i+1)\n",
        "  types = np.array(types)\n",
        "  clean = np.array(clean)\n",
        "\n",
        "  print(\"image shape: \", clean.shape)\n",
        "  print(\"label shape: \", types.shape)\n",
        "  \n",
        "  return types, clean, label"
      ]
    },
    {
      "cell_type": "code",
      "execution_count": 3,
      "metadata": {
        "id": "SH01nPzJw8vA"
      },
      "outputs": [],
      "source": [
        "from tensorflow.keras import layers, Model\n",
        "\n",
        "def build_model(class_num):\n",
        "  img_input = layers.Input(shape=(28, 28, 1))\n",
        "\n",
        "  x = layers.Conv2D(30, 5, activation='relu')(img_input)\n",
        "  x = layers.MaxPooling2D(2)(x)\n",
        "\n",
        "  x = layers.Conv2D(15, 3, activation='relu')(x)\n",
        "  x = layers.MaxPooling2D(2)(x)\n",
        "\n",
        "  # x = layers.Conv2D(8, 1, activation='relu')(x)\n",
        "  # x = layers.MaxPooling2D(2)(x)\n",
        "  x = layers.Dropout(0.2)(x)\n",
        "\n",
        "  x = layers.Flatten()(x)\n",
        "  x = layers.Dense(128, activation='relu')(x)\n",
        "  x = layers.Dense(50, activation='relu')(x)\n",
        "  output = layers.Dense(class_num, activation='softmax')(x)\n",
        "\n",
        "  model = Model(img_input, output)\n",
        "\n",
        "  return model"
      ]
    },
    {
      "cell_type": "code",
      "execution_count": 4,
      "metadata": {
        "id": "n8VpstdDe_jy"
      },
      "outputs": [],
      "source": [
        "from sklearn.model_selection import KFold\n",
        "\n",
        "def k_fold_cv(class_num, inputs, targets, num_folds):\n",
        "    callback = tf.keras.callbacks.EarlyStopping(\n",
        "        monitor = 'loss',\n",
        "        patience = 3,\n",
        "        restore_best_weights = True)\n",
        "    acc_per_fold = []\n",
        "    loss_per_fold = []\n",
        "    kfold = KFold(n_splits=num_folds, shuffle=True)\n",
        "    # start k fold\n",
        "    fold_no = 1\n",
        "    for train, test in kfold.split(inputs, targets):\n",
        "        # compile the model\n",
        "        model = build_model(class_num)\n",
        "        model.compile(\n",
        "            optimizer = 'adam',\n",
        "            loss = 'categorical_crossentropy',\n",
        "            metrics = ['accuracy'])\n",
        "        # print\n",
        "        print('------------------------------------------------------------------------')\n",
        "        print(f'Training for fold {fold_no} ...')\n",
        "        # fit model\n",
        "        history = model.fit(\n",
        "            x = inputs[train], y = targets[train],\n",
        "            batch_size = 20,\n",
        "            epochs = 20,\n",
        "            callbacks = [callback])\n",
        "        # print result\n",
        "        scores = model.evaluate(inputs[test], targets[test], verbose=0)\n",
        "        print(f'Score for fold {fold_no}: {model.metrics_names[0]} of {scores[0]}; {model.metrics_names[1]} of {scores[1]*100}%')\n",
        "        acc_per_fold.append(scores[1] * 100)\n",
        "        loss_per_fold.append(scores[0])\n",
        "        fold_no = fold_no + 1\n",
        "\n",
        "    return acc_per_fold, loss_per_fold"
      ]
    },
    {
      "cell_type": "markdown",
      "metadata": {
        "id": "Czmz_BLC0ekX"
      },
      "source": [
        "# main"
      ]
    },
    {
      "cell_type": "markdown",
      "metadata": {
        "id": "6bzIvuQ50iwV"
      },
      "source": [
        "**create model**"
      ]
    },
    {
      "cell_type": "code",
      "execution_count": 5,
      "metadata": {
        "colab": {
          "base_uri": "https://localhost:8080/"
        },
        "id": "lXE4lmrQywJb",
        "outputId": "9628b298-171c-47ae-c5a2-c2050b75f28b"
      },
      "outputs": [
        {
          "name": "stdout",
          "output_type": "stream",
          "text": [
            "0 :  +\n",
            "1 :  -\n",
            "2 :  0\n",
            "3 :  1\n",
            "4 :  2\n",
            "5 :  3\n",
            "6 :  4\n",
            "7 :  5\n",
            "8 :  6\n",
            "9 :  7\n",
            "10 :  8\n",
            "11 :  9\n",
            "12 :  x\n",
            "image shape:  (156617, 28, 28, 1)\n",
            "label shape:  (156617, 13)\n"
          ]
        }
      ],
      "source": [
        "# load data\n",
        "path = 'C:\\\\Users\\\\USER\\\\Desktop\\\\Handwritten-Equation-Recognition---CNN-master\\\\dataset'\n",
        "types, clean, label = load_datasets(path)"
      ]
    },
    {
      "cell_type": "code",
      "execution_count": 9,
      "metadata": {
        "id": "L6hegidTxWkb",
        "outputId": "8e6bdf18-5b88-4c7a-e055-dee0602d3487"
      },
      "outputs": [
        {
          "name": "stdout",
          "output_type": "stream",
          "text": [
            "Model: \"functional_3\"\n",
            "_________________________________________________________________\n",
            "Layer (type)                 Output Shape              Param #   \n",
            "=================================================================\n",
            "input_2 (InputLayer)         [(None, 28, 28, 1)]       0         \n",
            "_________________________________________________________________\n",
            "conv2d_2 (Conv2D)            (None, 24, 24, 30)        780       \n",
            "_________________________________________________________________\n",
            "max_pooling2d_2 (MaxPooling2 (None, 12, 12, 30)        0         \n",
            "_________________________________________________________________\n",
            "conv2d_3 (Conv2D)            (None, 10, 10, 15)        4065      \n",
            "_________________________________________________________________\n",
            "max_pooling2d_3 (MaxPooling2 (None, 5, 5, 15)          0         \n",
            "_________________________________________________________________\n",
            "dropout_1 (Dropout)          (None, 5, 5, 15)          0         \n",
            "_________________________________________________________________\n",
            "flatten_1 (Flatten)          (None, 375)               0         \n",
            "_________________________________________________________________\n",
            "dense_3 (Dense)              (None, 128)               48128     \n",
            "_________________________________________________________________\n",
            "dense_4 (Dense)              (None, 50)                6450      \n",
            "_________________________________________________________________\n",
            "dense_5 (Dense)              (None, 13)                663       \n",
            "=================================================================\n",
            "Total params: 60,086\n",
            "Trainable params: 60,086\n",
            "Non-trainable params: 0\n",
            "_________________________________________________________________\n",
            "None\n"
          ]
        }
      ],
      "source": [
        "# build model\n",
        "class_num = 13\n",
        "classifier = build_model(class_num)\n",
        "print(classifier.summary())"
      ]
    },
    {
      "cell_type": "markdown",
      "metadata": {
        "id": "gOgLmF0BUKeq"
      },
      "source": [
        "**validate model**"
      ]
    },
    {
      "cell_type": "code",
      "execution_count": 10,
      "metadata": {
        "id": "9yhsLRAeyRDT",
        "outputId": "9fdb45e1-08ef-401e-a1f6-31bd04d77841"
      },
      "outputs": [
        {
          "name": "stdout",
          "output_type": "stream",
          "text": [
            "------------------------------------------------------------------------\n",
            "Training for fold 1 ...\n",
            "Epoch 1/20\n",
            "6265/6265 [==============================] - 62s 10ms/step - loss: 0.1566 - accuracy: 0.9561\n",
            "Epoch 2/20\n",
            "6265/6265 [==============================] - 62s 10ms/step - loss: 0.0539 - accuracy: 0.9852\n",
            "Epoch 3/20\n",
            "6265/6265 [==============================] - 77s 12ms/step - loss: 0.0377 - accuracy: 0.9896\n",
            "Epoch 4/20\n",
            "6265/6265 [==============================] - 63s 10ms/step - loss: 0.0285 - accuracy: 0.9921\n",
            "Epoch 5/20\n",
            "6265/6265 [==============================] - 61s 10ms/step - loss: 0.0246 - accuracy: 0.9932\n",
            "Epoch 6/20\n",
            "6265/6265 [==============================] - 60s 10ms/step - loss: 0.0219 - accuracy: 0.9937\n",
            "Epoch 7/20\n",
            "6265/6265 [==============================] - 64s 10ms/step - loss: 0.0191 - accuracy: 0.9945\n",
            "Epoch 8/20\n",
            "6265/6265 [==============================] - 66s 11ms/step - loss: 0.0168 - accuracy: 0.9952\n",
            "Epoch 9/20\n",
            "6265/6265 [==============================] - 65s 10ms/step - loss: 0.0152 - accuracy: 0.9956\n",
            "Epoch 10/20\n",
            "6265/6265 [==============================] - 66s 10ms/step - loss: 0.0153 - accuracy: 0.9958\n",
            "Epoch 11/20\n",
            "6265/6265 [==============================] - 68s 11ms/step - loss: 0.0146 - accuracy: 0.9960\n",
            "Epoch 12/20\n",
            "6265/6265 [==============================] - 67s 11ms/step - loss: 0.0145 - accuracy: 0.9960\n",
            "Epoch 13/20\n",
            "6265/6265 [==============================] - 66s 11ms/step - loss: 0.0132 - accuracy: 0.9962\n",
            "Epoch 14/20\n",
            "6265/6265 [==============================] - 65s 10ms/step - loss: 0.0133 - accuracy: 0.9963\n",
            "Epoch 15/20\n",
            "6265/6265 [==============================] - 66s 11ms/step - loss: 0.0123 - accuracy: 0.9965\n",
            "Epoch 16/20\n",
            "6265/6265 [==============================] - 65s 10ms/step - loss: 0.0124 - accuracy: 0.9966\n",
            "Epoch 17/20\n",
            "6265/6265 [==============================] - 66s 11ms/step - loss: 0.0115 - accuracy: 0.9968\n",
            "Epoch 18/20\n",
            "6265/6265 [==============================] - 66s 11ms/step - loss: 0.0126 - accuracy: 0.9966\n",
            "Epoch 19/20\n",
            "6265/6265 [==============================] - 67s 11ms/step - loss: 0.0111 - accuracy: 0.9969\n",
            "Epoch 20/20\n",
            "6265/6265 [==============================] - 70s 11ms/step - loss: 0.0115 - accuracy: 0.9969\n",
            "Score for fold 1: loss of 0.006508083548396826; accuracy of 99.84676241874695%\n",
            "------------------------------------------------------------------------\n",
            "Training for fold 2 ...\n",
            "Epoch 1/20\n",
            "6265/6265 [==============================] - 72s 11ms/step - loss: 0.1730 - accuracy: 0.9515\n",
            "Epoch 2/20\n",
            "6265/6265 [==============================] - 72s 11ms/step - loss: 0.0561 - accuracy: 0.9850\n",
            "Epoch 3/20\n",
            "6265/6265 [==============================] - 73s 12ms/step - loss: 0.0390 - accuracy: 0.9894\n",
            "Epoch 4/20\n",
            "6265/6265 [==============================] - 70s 11ms/step - loss: 0.0297 - accuracy: 0.9921\n",
            "Epoch 5/20\n",
            "6265/6265 [==============================] - 69s 11ms/step - loss: 0.0260 - accuracy: 0.9928\n",
            "Epoch 6/20\n",
            "6265/6265 [==============================] - 69s 11ms/step - loss: 0.0223 - accuracy: 0.9938\n",
            "Epoch 7/20\n",
            "6265/6265 [==============================] - 167s 27ms/step - loss: 0.0201 - accuracy: 0.9943\n",
            "Epoch 8/20\n",
            "6265/6265 [==============================] - 183s 29ms/step - loss: 0.0185 - accuracy: 0.9951\n",
            "Epoch 9/20\n",
            "6265/6265 [==============================] - 178s 28ms/step - loss: 0.0166 - accuracy: 0.9956\n",
            "Epoch 10/20\n",
            "6265/6265 [==============================] - 176s 28ms/step - loss: 0.0164 - accuracy: 0.9954\n",
            "Epoch 11/20\n",
            "6265/6265 [==============================] - 179s 29ms/step - loss: 0.0146 - accuracy: 0.9958\n",
            "Epoch 12/20\n",
            "6265/6265 [==============================] - 172s 27ms/step - loss: 0.0141 - accuracy: 0.9961\n",
            "Epoch 13/20\n",
            "6265/6265 [==============================] - 172s 27ms/step - loss: 0.0136 - accuracy: 0.9962\n",
            "Epoch 14/20\n",
            "6265/6265 [==============================] - 172s 27ms/step - loss: 0.0137 - accuracy: 0.9964\n",
            "Epoch 15/20\n",
            "6265/6265 [==============================] - 180s 29ms/step - loss: 0.0121 - accuracy: 0.9968\n",
            "Epoch 16/20\n",
            "6265/6265 [==============================] - 170s 27ms/step - loss: 0.0119 - accuracy: 0.9968\n",
            "Epoch 17/20\n",
            "6265/6265 [==============================] - 124s 20ms/step - loss: 0.0113 - accuracy: 0.9972\n",
            "Epoch 18/20\n",
            "6265/6265 [==============================] - 168s 27ms/step - loss: 0.0124 - accuracy: 0.9967\n",
            "Epoch 19/20\n",
            "6265/6265 [==============================] - 170s 27ms/step - loss: 0.0115 - accuracy: 0.9969\n",
            "Epoch 20/20\n",
            "6265/6265 [==============================] - 159s 25ms/step - loss: 0.0116 - accuracy: 0.9969\n",
            "Score for fold 2: loss of 0.004558258224278688; accuracy of 99.89145994186401%\n",
            "------------------------------------------------------------------------\n",
            "Training for fold 3 ...\n",
            "Epoch 1/20\n",
            "6265/6265 [==============================] - 122s 19ms/step - loss: 0.1678 - accuracy: 0.9522\n",
            "Epoch 2/20\n",
            "6265/6265 [==============================] - 125s 20ms/step - loss: 0.0549 - accuracy: 0.9848\n",
            "Epoch 3/20\n",
            "6265/6265 [==============================] - 154s 25ms/step - loss: 0.0375 - accuracy: 0.9899\n",
            "Epoch 4/20\n",
            "6265/6265 [==============================] - 149s 24ms/step - loss: 0.0307 - accuracy: 0.9917s - los\n",
            "Epoch 5/20\n",
            "6265/6265 [==============================] - 149s 24ms/step - loss: 0.0251 - accuracy: 0.9931\n",
            "Epoch 6/20\n",
            "6265/6265 [==============================] - 141s 23ms/step - loss: 0.0220 - accuracy: 0.9939\n",
            "Epoch 7/20\n",
            "6265/6265 [==============================] - 124s 20ms/step - loss: 0.0194 - accuracy: 0.9947\n",
            "Epoch 8/20\n",
            "6265/6265 [==============================] - 88s 14ms/step - loss: 0.0175 - accuracy: 0.9952\n",
            "Epoch 9/20\n",
            "6265/6265 [==============================] - 112s 18ms/step - loss: 0.0158 - accuracy: 0.9956\n",
            "Epoch 10/20\n",
            "6265/6265 [==============================] - 145s 23ms/step - loss: 0.0162 - accuracy: 0.9957\n",
            "Epoch 11/20\n",
            "6265/6265 [==============================] - 121s 19ms/step - loss: 0.0152 - accuracy: 0.9958\n",
            "Epoch 12/20\n",
            "6265/6265 [==============================] - 136s 22ms/step - loss: 0.0139 - accuracy: 0.9963\n",
            "Epoch 13/20\n",
            "6265/6265 [==============================] - 133s 21ms/step - loss: 0.0129 - accuracy: 0.9962\n",
            "Epoch 14/20\n",
            "6265/6265 [==============================] - 133s 21ms/step - loss: 0.0134 - accuracy: 0.9965\n",
            "Epoch 15/20\n",
            "6265/6265 [==============================] - 132s 21ms/step - loss: 0.0123 - accuracy: 0.9966\n",
            "Epoch 16/20\n",
            "6265/6265 [==============================] - 131s 21ms/step - loss: 0.0127 - accuracy: 0.9967\n",
            "Epoch 17/20\n",
            "6265/6265 [==============================] - 135s 22ms/step - loss: 0.0121 - accuracy: 0.9967\n",
            "Epoch 18/20\n",
            "6265/6265 [==============================] - 130s 21ms/step - loss: 0.0104 - accuracy: 0.9973\n",
            "Epoch 19/20\n",
            "6265/6265 [==============================] - 136s 22ms/step - loss: 0.0124 - accuracy: 0.9969\n",
            "Epoch 20/20\n",
            "6265/6265 [==============================] - 140s 22ms/step - loss: 0.0108 - accuracy: 0.9971\n",
            "Score for fold 3: loss of 0.004536397755146027; accuracy of 99.89145398139954%\n",
            "------------------------------------------------------------------------\n",
            "Training for fold 4 ...\n",
            "Epoch 1/20\n",
            "6265/6265 [==============================] - 139s 22ms/step - loss: 0.1732 - accuracy: 0.9510\n",
            "Epoch 2/20\n",
            "6265/6265 [==============================] - 142s 23ms/step - loss: 0.0560 - accuracy: 0.9848\n",
            "Epoch 3/20\n",
            "6265/6265 [==============================] - 108s 17ms/step - loss: 0.0387 - accuracy: 0.9892\n",
            "Epoch 4/20\n",
            "6265/6265 [==============================] - 132s 21ms/step - loss: 0.0303 - accuracy: 0.9917\n",
            "Epoch 5/20\n",
            "6265/6265 [==============================] - 122s 19ms/step - loss: 0.0254 - accuracy: 0.9930\n",
            "Epoch 6/20\n",
            "6265/6265 [==============================] - 123s 20ms/step - loss: 0.0225 - accuracy: 0.9939\n",
            "Epoch 7/20\n",
            "6265/6265 [==============================] - 120s 19ms/step - loss: 0.0196 - accuracy: 0.9946\n",
            "Epoch 8/20\n",
            "6265/6265 [==============================] - 138s 22ms/step - loss: 0.0180 - accuracy: 0.9949\n",
            "Epoch 9/20\n",
            "6265/6265 [==============================] - 139s 22ms/step - loss: 0.0160 - accuracy: 0.9955\n",
            "Epoch 10/20\n",
            "6265/6265 [==============================] - 136s 22ms/step - loss: 0.0161 - accuracy: 0.9957s - loss: 0.0160 - accuracy: 0.99 - ETA\n",
            "Epoch 11/20\n",
            "6265/6265 [==============================] - 136s 22ms/step - loss: 0.0134 - accuracy: 0.9963\n",
            "Epoch 12/20\n",
            "6265/6265 [==============================] - 85s 14ms/step - loss: 0.0142 - accuracy: 0.9961\n",
            "Epoch 13/20\n",
            "6265/6265 [==============================] - 67s 11ms/step - loss: 0.0146 - accuracy: 0.9963\n",
            "Epoch 14/20\n",
            "6265/6265 [==============================] - 72s 11ms/step - loss: 0.0119 - accuracy: 0.9967\n",
            "Epoch 15/20\n",
            "6265/6265 [==============================] - 74s 12ms/step - loss: 0.0124 - accuracy: 0.9968\n",
            "Epoch 16/20\n",
            "6265/6265 [==============================] - 77s 12ms/step - loss: 0.0136 - accuracy: 0.9965\n",
            "Epoch 17/20\n",
            "6265/6265 [==============================] - 75s 12ms/step - loss: 0.0123 - accuracy: 0.9966\n",
            "Score for fold 4: loss of 0.009169640019536018; accuracy of 99.78929162025452%\n",
            "------------------------------------------------------------------------\n",
            "Training for fold 5 ...\n",
            "Epoch 1/20\n",
            "6265/6265 [==============================] - 79s 13ms/step - loss: 0.1648 - accuracy: 0.9538\n",
            "Epoch 2/20\n",
            "6265/6265 [==============================] - 80s 13ms/step - loss: 0.0543 - accuracy: 0.9848\n",
            "Epoch 3/20\n",
            "6265/6265 [==============================] - 84s 13ms/step - loss: 0.0373 - accuracy: 0.9896\n",
            "Epoch 4/20\n",
            "6265/6265 [==============================] - 84s 13ms/step - loss: 0.0289 - accuracy: 0.9918\n",
            "Epoch 5/20\n",
            "6265/6265 [==============================] - 84s 13ms/step - loss: 0.0249 - accuracy: 0.9931\n",
            "Epoch 6/20\n",
            "6265/6265 [==============================] - 89s 14ms/step - loss: 0.0212 - accuracy: 0.9941\n",
            "Epoch 7/20\n",
            "6265/6265 [==============================] - 109s 17ms/step - loss: 0.0188 - accuracy: 0.9944\n",
            "Epoch 8/20\n",
            "6265/6265 [==============================] - 146s 23ms/step - loss: 0.0170 - accuracy: 0.9952\n",
            "Epoch 9/20\n",
            "6265/6265 [==============================] - 128s 20ms/step - loss: 0.0158 - accuracy: 0.9957\n",
            "Epoch 10/20\n",
            "6265/6265 [==============================] - 136s 22ms/step - loss: 0.0157 - accuracy: 0.9957\n",
            "Epoch 11/20\n",
            "6265/6265 [==============================] - 138s 22ms/step - loss: 0.0142 - accuracy: 0.9961\n",
            "Epoch 12/20\n",
            "6265/6265 [==============================] - 141s 23ms/step - loss: 0.0141 - accuracy: 0.9959\n",
            "Epoch 13/20\n",
            "6265/6265 [==============================] - 142s 23ms/step - loss: 0.0136 - accuracy: 0.9963\n",
            "Epoch 14/20\n",
            "6265/6265 [==============================] - 141s 22ms/step - loss: 0.0120 - accuracy: 0.9967\n",
            "Epoch 15/20\n",
            "6265/6265 [==============================] - 139s 22ms/step - loss: 0.0128 - accuracy: 0.9965\n",
            "Epoch 16/20\n",
            "6265/6265 [==============================] - 135s 22ms/step - loss: 0.0123 - accuracy: 0.9967\n",
            "Epoch 17/20\n",
            "6265/6265 [==============================] - 133s 21ms/step - loss: 0.0120 - accuracy: 0.9967\n",
            "Score for fold 5: loss of 0.005165014881640673; accuracy of 99.84995126724243%\n"
          ]
        }
      ],
      "source": [
        "num_folds = 5\n",
        "acc_per_fold, loss_per_fold = k_fold_cv(class_num, clean, types, num_folds)"
      ]
    },
    {
      "cell_type": "code",
      "execution_count": 32,
      "metadata": {
        "id": "jXPT6nFfyeWS",
        "outputId": "f299e50f-bffb-4b7b-a46a-4d1e9bc606a3"
      },
      "outputs": [
        {
          "data": {
            "image/png": "[encoded data removed]",
            "text/plain": [
              "<Figure size 720x432 with 2 Axes>"
            ]
          },
          "metadata": {},
          "output_type": "display_data"
        }
      ],
      "source": [
        "import seaborn as sns\n",
        "sns.set_theme(style=\"darkgrid\", palette=\"pastel\")\n",
        "\n",
        "fig, axs = plt.subplots(2, 1, figsize=(10, 6), tight_layout=True)\n",
        "\n",
        "axs[0].set_title('K FOLD RESULT (5 folds)')\n",
        "axs[0].plot(acc_per_fold, '-s')\n",
        "axs[0].set_ylabel('accuracy')\n",
        "axs[0].xaxis.set_ticks(range(0, 5))\n",
        "axs[0].text(3, 99.86, f'mean accuracy: {round(np.mean(acc_per_fold), 3)}%', color='#ec7357')\n",
        "\n",
        "axs[1].plot(loss_per_fold, '-s')\n",
        "axs[1].set_ylabel('loss')\n",
        "axs[1].xaxis.set_ticks(range(0, 5))\n",
        "axs[1].set_xlabel('fold number')\n",
        "axs[1].text(1.85, 0.007, f'mean loss: {round(np.mean(loss_per_fold), 3)}', color='#ec7357')\n",
        "\n",
        "plt.savefig('k_fold')\n",
        "plt.show()"
      ]
    },
    {
      "cell_type": "code",
      "execution_count": null,
      "metadata": {
        "id": "TWWARhPJe_j4"
      },
      "outputs": [],
      "source": []
    }
  ],
  "metadata": {
    "colab": {
      "collapsed_sections": [],
      "name": "classifier_validate.ipynb",
      "provenance": []
    },
    "interpreter": {
      "hash": "ad2bdc8ecc057115af97d19610ffacc2b4e99fae6737bb82f5d7fb13d2f2c186"
    },
    "kernelspec": {
      "display_name": "Python 3.8.8 ('base')",
      "language": "python",
      "name": "python3"
    },
    "language_info": {
      "codemirror_mode": {
        "name": "ipython",
        "version": 3
      },
      "file_extension": ".py",
      "mimetype": "text/x-python",
      "name": "python",
      "nbconvert_exporter": "python",
      "pygments_lexer": "ipython3",
      "version": "3.8.8"
    }
  },
  "nbformat": 4,
  "nbformat_minor": 0
}
