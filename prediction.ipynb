{
  "cells": [
    {
      "cell_type": "markdown",
      "metadata": {
        "id": "HsL7lJshIcYG"
      },
      "source": [
        "# Prediction\n",
        "附上test data的連結\n",
        "[link!](https://www.kaggle.com/datasets/xainano/handwrittenmathsymbols)"
      ]
    },
    {
      "cell_type": "code",
      "execution_count": 24,
      "metadata": {
        "id": "sokidISEIcYK"
      },
      "outputs": [],
      "source": [
        "import tensorflow as tf\n",
        "import os\n",
        "import numpy as np\n",
        "import matplotlib.pyplot as plt\n",
        "import cv2"
      ]
    },
    {
      "cell_type": "code",
      "execution_count": 29,
      "metadata": {
        "id": "_0hvxKM4IcYM"
      },
      "outputs": [],
      "source": [
        "import tensorflow.keras.preprocessing.image as tfimage\n",
        "\n",
        "def load_datasets(path):\n",
        "  clean = []\n",
        "  types = []\n",
        "  label = []\n",
        "\n",
        "  # loop over every folder\n",
        "  i = -1\n",
        "  k = 0\n",
        "  for folder in os.listdir(path):\n",
        "    i += 1\n",
        "    label.append(folder)\n",
        "    print(i, \": \", folder)\n",
        "    for file in os.listdir(path + '/' + folder):\n",
        "        # image = tfimage.load_img(path + '/' + folder + '/' + file, target_size=(256,256))\n",
        "        # image = tfimage.img_to_array(image).astype('float32') / 255\n",
        "        img = tfimage.load_img(path + '/' + folder + '/' + file)\n",
        "        img = cv2.imread(os.path.join(path,folder,file),cv2.IMREAD_GRAYSCALE) # Convert to Image to Grayscale bc contour\n",
        "        img=~img # Invert the bits of image 255 -> 0 / test the dataset\n",
        "        if img is not None:\n",
        "          ret,thresh=cv2.threshold(img,127,255,cv2.THRESH_BINARY) # THRESH_BINARY: Set bits > 127 to 1(white background) and <= 127 to 0(black) \n",
        "          ctrs, ret = cv2.findContours(thresh, cv2.RETR_EXTERNAL, cv2.CHAIN_APPROX_NONE) # determine object boundary, remove background\n",
        "          cnt=sorted(ctrs, key=lambda ctr: cv2.boundingRect(ctr)[0])\n",
        "          w=int(45)\n",
        "          h=int(45)\n",
        "          # maximum area of the rectangle\n",
        "          maxi=0\n",
        "          for c in cnt: # traverse in all the rectangles we have\n",
        "            x,y,w,h=cv2.boundingRect(c)\n",
        "            maxi=max(w*h,maxi)\n",
        "            if maxi==w*h:\n",
        "              x_max=x\n",
        "              y_max=y\n",
        "              w_max=w\n",
        "              h_max=h\n",
        "          im_crop= thresh[y_max:y_max+h_max+10, x_max:x_max+w_max+10] # add 10 extra margin to avoid error\n",
        "          im_resize = cv2.resize(im_crop,(45,45))\n",
        "          im_resize =  tfimage.img_to_array(im_resize).astype('float32') / 255\n",
        "          #im_resize=np.reshape(im_resize,(784,1)) #resize to (28,28)\n",
        "          clean.append(im_resize) # flat the matrix\n",
        "          types.append(i)\n",
        "\n",
        "  types = tf.one_hot(types, depth=i+1)\n",
        "  types = np.array(types)\n",
        "  clean = np.array(clean)\n",
        "\n",
        "  print(\"image shape: \", clean.shape)\n",
        "  print(\"label shape: \", types.shape)\n",
        "  \n",
        "  return types, clean, label"
      ]
    },
    {
      "cell_type": "markdown",
      "metadata": {
        "id": "tZGntgD_IcYN"
      },
      "source": [
        "**load model and test data (for prediction)**"
      ]
    },
    {
      "cell_type": "code",
      "execution_count": 27,
      "metadata": {
        "id": "6k7htQU2IcYO",
        "outputId": "d6bde5e0-1c72-4ad0-9294-4269ba805e04"
      },
      "outputs": [
        {
          "name": "stdout",
          "output_type": "stream",
          "text": [
            "0 :  !\n",
            "1 :  +\n",
            "2 :  -\n",
            "3 :  0\n",
            "4 :  1\n",
            "5 :  2\n",
            "6 :  3\n",
            "7 :  4\n",
            "8 :  5\n",
            "9 :  6\n",
            "10 :  7\n",
            "11 :  8\n",
            "12 :  9\n",
            "13 :  cos\n",
            "14 :  div\n",
            "15 :  log\n",
            "16 :  pi\n",
            "17 :  sin\n",
            "18 :  tan\n",
            "19 :  x\n",
            "image shape:  (172847, 45, 45, 1)\n",
            "label shape:  (172847, 20)\n"
          ]
        }
      ],
      "source": [
        "modelpath = \"C:\\\\Users\\\\USER\\\\Desktop\\\\MathHelper\\\\little_helper.h5\"\n",
        "classifier = tf.keras.models.load_model(modelpath)\n",
        "datapath = \"C:\\\\Users\\\\USER\\\\Desktop\\\\MathHelper\\\\dataset\"\n",
        "types, clean, label = load_datasets(datapath)"
      ]
    },
    {
      "cell_type": "markdown",
      "metadata": {
        "id": "yaFPKghpIcYQ"
      },
      "source": [
        "**prediction**"
      ]
    },
    {
      "cell_type": "code",
      "execution_count": 31,
      "metadata": {
        "id": "4CPr8mI1IcYQ",
        "outputId": "b92807ca-5313-4c10-c45e-a2622443eb25"
      },
      "outputs": [
        {
          "name": "stdout",
          "output_type": "stream",
          "text": [
            "2701/2701 - 36s - loss: 0.0029 - accuracy: 0.9992\n",
            "test loss:  0.0029236034024506807\n",
            "test accuracy:  0.9992015957832336\n"
          ]
        }
      ],
      "source": [
        "class_num = 20\n",
        "scores = classifier.evaluate(\n",
        "        x = clean,\n",
        "        y = types,\n",
        "        batch_size = 64,\n",
        "        verbose = 2)\n",
        "\n",
        "print(\"test loss: \", scores[0])\n",
        "print(\"test accuracy: \", scores[1])"
      ]
    },
    {
      "cell_type": "code",
      "execution_count": 32,
      "metadata": {
        "id": "QKzu6hZUIcYR"
      },
      "outputs": [],
      "source": [
        "# for visualize\n",
        "results = classifier.predict(clean)"
      ]
    },
    {
      "cell_type": "code",
      "execution_count": 33,
      "metadata": {
        "id": "Odb3mEOrIcYS"
      },
      "outputs": [],
      "source": [
        "total = [0, 0, 0, 0, 0, 0, 0, 0, 0, 0, 0, 0, 0, 0, 0, 0, 0, 0, 0, 0]\n",
        "wrong = [0, 0, 0, 0, 0, 0, 0, 0, 0, 0, 0, 0, 0, 0, 0, 0, 0, 0, 0, 0]\n",
        "\n",
        "for i in range(clean.shape[0]):\n",
        "    answer = np.where(results[i] == np.max(results[i]))[0][0]\n",
        "    reality = np.where(types[i] == 1)[0][0]\n",
        "    total[reality] += 1\n",
        "    if (answer != reality):\n",
        "        wrong[reality] += 1\n",
        "\n",
        "wrong_rate = [round(int(w) / int(t) * 100, 2) for w, t in zip(wrong, total)]"
      ]
    },
    {
      "cell_type": "code",
      "execution_count": 34,
      "metadata": {
        "id": "VMK0mFD2IcYT",
        "outputId": "72004ca0-9794-4a9d-e413-62397b220ab7"
      },
      "outputs": [
        {
          "name": "stdout",
          "output_type": "stream",
          "text": [
            "   label  wrong rate (%)\n",
            "0      !            0.00\n",
            "1      +            0.00\n",
            "2      -            0.10\n",
            "3      0            0.00\n",
            "4      1            0.01\n",
            "5      2            0.07\n",
            "6      3            0.11\n",
            "7      4            0.12\n",
            "8      5            0.00\n",
            "9      6            0.00\n",
            "10     7            0.83\n",
            "11     8            0.00\n",
            "12     9            0.00\n",
            "13   cos            0.00\n",
            "14   div            3.23\n",
            "15   log            0.00\n",
            "16    pi            0.34\n",
            "17   sin            0.09\n",
            "18   tan            0.00\n",
            "19     x            0.00\n"
          ]
        }
      ],
      "source": [
        "import pandas as pd  \n",
        "\n",
        "data = {'label': label, 'wrong rate (%)': wrong_rate}  \n",
        "df = pd.DataFrame(data)  \n",
        "\n",
        "print(df)  "
      ]
    },
    {
      "cell_type": "code",
      "execution_count": 37,
      "metadata": {
        "id": "CJBJywF7IcYU",
        "outputId": "1274a232-33a7-48de-9525-cc3991521714"
      },
      "outputs": [
        {
          "name": "stdout",
          "output_type": "stream",
          "text": [
            "VISUALIZE-PREDICTED-RESULT---------------------------\n",
            "! 0.0 %\n",
            "+ 0.0 %\n",
            "- 0.0 %\n",
            "0 0.0 %\n",
            "1 0.0 %\n",
            "2 100.0 %\n",
            "3 0.0 %\n",
            "4 0.0 %\n",
            "5 0.0 %\n",
            "6 0.0 %\n",
            "7 0.0 %\n",
            "8 0.0 %\n",
            "9 0.0 %\n",
            "cos 0.0 %\n",
            "div 0.0 %\n",
            "log 0.0 %\n",
            "pi 0.0 %\n",
            "sin 0.0 %\n",
            "tan 0.0 %\n",
            "x 0.0 %\n",
            "predict:  2\n",
            "reality:  2\n"
          ]
        },
        {
          "data": {
            "image/png": "[encoded data removed]",
            "text/plain": [
              "<Figure size 432x288 with 1 Axes>"
            ]
          },
          "metadata": {
            "needs_background": "light"
          },
          "output_type": "display_data"
        }
      ],
      "source": [
        "tmp = np.random.randint(0, len(clean))\n",
        "answer = np.where(results[tmp] == np.max(results[tmp]))[0][0]\n",
        "reality = np.where(types[tmp] == 1)[0][0]\n",
        "\n",
        "print(\"VISUALIZE-PREDICTED-RESULT---------------------------\")\n",
        "for p in range(class_num):\n",
        "    print(label[p], round(results[tmp][p]*100, 3), '%')\n",
        "\n",
        "print(\"predict: \", label[answer])\n",
        "print(\"reality: \", label[reality])\n",
        "plt.imshow(clean[tmp])\n",
        "plt.show()"
      ]
    }
  ],
  "metadata": {
    "colab": {
      "name": "prediction.ipynb",
      "provenance": []
    },
    "interpreter": {
      "hash": "ad2bdc8ecc057115af97d19610ffacc2b4e99fae6737bb82f5d7fb13d2f2c186"
    },
    "kernelspec": {
      "display_name": "Python 3.8.8 ('base')",
      "language": "python",
      "name": "python3"
    },
    "language_info": {
      "codemirror_mode": {
        "name": "ipython",
        "version": 3
      },
      "file_extension": ".py",
      "mimetype": "text/x-python",
      "name": "python",
      "nbconvert_exporter": "python",
      "pygments_lexer": "ipython3",
      "version": "3.8.8"
    },
    "orig_nbformat": 4
  },
  "nbformat": 4,
  "nbformat_minor": 0
}
