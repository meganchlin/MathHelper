{
  "cells": [
    {
      "cell_type": "markdown",
      "metadata": {
        "id": "shMmF-5g4F2s"
      },
      "source": [
        "# classifier"
      ]
    },
    {
      "cell_type": "markdown",
      "metadata": {
        "id": "_bcFji9WrqMQ"
      },
      "source": [
        "**import**"
      ]
    },
    {
      "cell_type": "code",
      "execution_count": 1,
      "metadata": {
        "id": "IDW9KnfDxchg"
      },
      "outputs": [],
      "source": [
        "import os\n",
        "import numpy as np\n",
        "import matplotlib.pyplot as plt\n",
        "import tensorflow as tf\n",
        "import cv2"
      ]
    },
    {
      "cell_type": "markdown",
      "metadata": {
        "id": "H1p8h8qbyg3m"
      },
      "source": [
        "**functions**"
      ]
    },
    {
      "cell_type": "code",
      "execution_count": 18,
      "metadata": {
        "id": "yNMwg3U7y4rF"
      },
      "outputs": [],
      "source": [
        "import tensorflow.keras.preprocessing.image as tfimage\n",
        "\n",
        "def load_datasets(path):\n",
        "  clean = []\n",
        "  types = []\n",
        "  label = []\n",
        "\n",
        "  # loop over every folder\n",
        "  i = -1\n",
        "  k = 0\n",
        "  for folder in os.listdir(path):\n",
        "    i += 1\n",
        "    label.append(folder)\n",
        "    print(i, \": \", folder)\n",
        "    for file in os.listdir(path + '/' + folder):\n",
        "        # image = tfimage.load_img(path + '/' + folder + '/' + file, target_size=(256,256))\n",
        "        # image = tfimage.img_to_array(image).astype('float32') / 255\n",
        "        img = tfimage.load_img(path + '/' + folder + '/' + file)\n",
        "        img = cv2.imread(os.path.join(path,folder,file),cv2.IMREAD_GRAYSCALE) # Convert to Image to Grayscale bc contour\n",
        "        img=~img # Invert the bits of image 255 -> 0 / test the dataset\n",
        "        if img is not None:\n",
        "          ret,thresh=cv2.threshold(img,127,255,cv2.THRESH_BINARY) # THRESH_BINARY: Set bits > 127 to 1(white background) and <= 127 to 0(black) \n",
        "          ctrs, ret = cv2.findContours(thresh, cv2.RETR_EXTERNAL, cv2.CHAIN_APPROX_NONE) # determine object boundary, remove background\n",
        "          cnt=sorted(ctrs, key=lambda ctr: cv2.boundingRect(ctr)[0])\n",
        "          w=int(28)\n",
        "          h=int(28)\n",
        "          # maximum area of the rectangle\n",
        "          maxi=0\n",
        "          for c in cnt: # traverse in all the rectangles we have\n",
        "            x,y,w,h=cv2.boundingRect(c)\n",
        "            maxi=max(w*h,maxi)\n",
        "            if maxi==w*h:\n",
        "              x_max=x\n",
        "              y_max=y\n",
        "              w_max=w\n",
        "              h_max=h\n",
        "          im_crop= thresh[y_max:y_max+h_max+10, x_max:x_max+w_max+10] # add 10 extra margin to avoid error\n",
        "          im_resize = cv2.resize(im_crop,(45,45))\n",
        "          im_resize =  tfimage.img_to_array(im_resize).astype('float32') / 255\n",
        "          #im_resize=np.reshape(im_resize,(784,1)) #resize to (28,28)\n",
        "          clean.append(im_resize) # flat the matrix\n",
        "          types.append(i)\n",
        "\n",
        "  types = tf.one_hot(types, depth=i+1)\n",
        "  types = np.array(types)\n",
        "  clean = np.array(clean)\n",
        "\n",
        "  print(\"image shape: \", clean.shape)\n",
        "  print(\"label shape: \", types.shape)\n",
        "  \n",
        "  return types, clean, label"
      ]
    },
    {
      "cell_type": "code",
      "execution_count": 19,
      "metadata": {
        "id": "OdBV5t_iKDde"
      },
      "outputs": [],
      "source": [
        "def preprocess(path):\n",
        "  # load data\n",
        "  types, clean, label = load_datasets(path)\n",
        "  # permutation\n",
        "  idx = np.random.permutation(np.arange(types.shape[0]))\n",
        "  clean = clean[idx]\n",
        "  types = types[idx]\n",
        "  # split\n",
        "  train_num = round(len(clean)*0.8)\n",
        "  print(\"train num: \", train_num)\n",
        "  print(\"test num: \", len(clean) - train_num)\n",
        "  #80% of images to training set\n",
        "  clean_train = clean[0:train_num]\n",
        "  clean_test = clean[train_num:]\n",
        "  types_train = types[0:train_num]\n",
        "  types_test = types[train_num:]\n",
        "\n",
        "  return clean_train, clean_test, types_train, types_test, label"
      ]
    },
    {
      "cell_type": "code",
      "execution_count": 20,
      "metadata": {
        "id": "SH01nPzJw8vA"
      },
      "outputs": [],
      "source": [
        "from tensorflow.keras import layers, Model\n",
        "\n",
        "def build_model(class_num):\n",
        "  img_input = layers.Input(shape=(45, 45, 1))\n",
        "\n",
        "  x = layers.Conv2D(16, 3, activation='relu')(img_input)\n",
        "  x = layers.MaxPooling2D(2)(x)\n",
        "\n",
        "  x = layers.Conv2D(32, 3, activation='relu')(x)\n",
        "  x = layers.MaxPooling2D(2)(x)\n",
        "\n",
        "  x = layers.Conv2D(64, 3, activation='relu')(x)\n",
        "  x = layers.MaxPooling2D(2)(x)\n",
        "\n",
        "  # x = layers.Conv2D(8, 1, activation='relu')(x)\n",
        "  # x = layers.MaxPooling2D(2)(x)\n",
        "  x = layers.Dropout(0.2)(x)\n",
        "\n",
        "  x = layers.Flatten()(x)\n",
        "  x = layers.Dense(1024, activation='relu')(x)\n",
        "  output = layers.Dense(class_num, activation='softmax')(x)\n",
        "\n",
        "  model = Model(img_input, output)\n",
        "\n",
        "  return model"
      ]
    },
    {
      "cell_type": "markdown",
      "metadata": {
        "id": "Czmz_BLC0ekX"
      },
      "source": [
        "# main"
      ]
    },
    {
      "cell_type": "markdown",
      "metadata": {
        "id": "6bzIvuQ50iwV"
      },
      "source": [
        "**create model**"
      ]
    },
    {
      "cell_type": "code",
      "execution_count": 22,
      "metadata": {
        "colab": {
          "base_uri": "https://localhost:8080/",
          "height": 347
        },
        "id": "lXE4lmrQywJb",
        "outputId": "992cd44a-ff36-4ae8-a191-04c5295f9658"
      },
      "outputs": [
        {
          "name": "stdout",
          "output_type": "stream",
          "text": [
            "0 :  !\n",
            "1 :  +\n",
            "2 :  -\n",
            "3 :  0\n",
            "4 :  1\n",
            "5 :  2\n",
            "6 :  3\n",
            "7 :  4\n",
            "8 :  5\n",
            "9 :  6\n",
            "10 :  7\n",
            "11 :  8\n",
            "12 :  9\n",
            "13 :  cos\n",
            "14 :  div\n",
            "15 :  log\n",
            "16 :  pi\n",
            "17 :  sin\n",
            "18 :  tan\n",
            "19 :  x\n",
            "image shape:  (172847, 45, 45, 1)\n",
            "label shape:  (172847, 20)\n",
            "train num:  138278\n",
            "test num:  34569\n"
          ]
        }
      ],
      "source": [
        "# load data\n",
        "path = 'C:\\\\Users\\\\USER\\\\Desktop\\\\MathHelper\\\\dataset'\n",
        "clean_train, clean_test, types_train, types_test, label = preprocess(path)"
      ]
    },
    {
      "cell_type": "code",
      "execution_count": 23,
      "metadata": {
        "id": "L6hegidTxWkb"
      },
      "outputs": [
        {
          "name": "stdout",
          "output_type": "stream",
          "text": [
            "Model: \"functional_5\"\n",
            "_________________________________________________________________\n",
            "Layer (type)                 Output Shape              Param #   \n",
            "=================================================================\n",
            "input_3 (InputLayer)         [(None, 45, 45, 1)]       0         \n",
            "_________________________________________________________________\n",
            "conv2d_6 (Conv2D)            (None, 43, 43, 16)        160       \n",
            "_________________________________________________________________\n",
            "max_pooling2d_6 (MaxPooling2 (None, 21, 21, 16)        0         \n",
            "_________________________________________________________________\n",
            "conv2d_7 (Conv2D)            (None, 19, 19, 32)        4640      \n",
            "_________________________________________________________________\n",
            "max_pooling2d_7 (MaxPooling2 (None, 9, 9, 32)          0         \n",
            "_________________________________________________________________\n",
            "conv2d_8 (Conv2D)            (None, 7, 7, 64)          18496     \n",
            "_________________________________________________________________\n",
            "max_pooling2d_8 (MaxPooling2 (None, 3, 3, 64)          0         \n",
            "_________________________________________________________________\n",
            "dropout_2 (Dropout)          (None, 3, 3, 64)          0         \n",
            "_________________________________________________________________\n",
            "flatten_2 (Flatten)          (None, 576)               0         \n",
            "_________________________________________________________________\n",
            "dense_6 (Dense)              (None, 1024)              590848    \n",
            "_________________________________________________________________\n",
            "dense_7 (Dense)              (None, 20)                20500     \n",
            "=================================================================\n",
            "Total params: 634,644\n",
            "Trainable params: 634,644\n",
            "Non-trainable params: 0\n",
            "_________________________________________________________________\n",
            "None\n"
          ]
        }
      ],
      "source": [
        "# build model\n",
        "class_num = 20\n",
        "classifier = build_model(class_num)\n",
        "print(classifier.summary())"
      ]
    },
    {
      "cell_type": "code",
      "execution_count": 24,
      "metadata": {
        "id": "HGYObCblx85F"
      },
      "outputs": [],
      "source": [
        "# compile the model\n",
        "optimizer = tf.keras.optimizers.Adam(learning_rate = 0.01)\n",
        "classifier.compile(\n",
        "    optimizer = 'adam',\n",
        "    loss = 'categorical_crossentropy',\n",
        "    metrics = ['accuracy'])"
      ]
    },
    {
      "cell_type": "markdown",
      "metadata": {
        "id": "gOgLmF0BUKeq"
      },
      "source": [
        "**train model**"
      ]
    },
    {
      "cell_type": "code",
      "execution_count": 25,
      "metadata": {
        "id": "9yhsLRAeyRDT"
      },
      "outputs": [
        {
          "name": "stdout",
          "output_type": "stream",
          "text": [
            "Epoch 1/30\n",
            "2161/2161 [==============================] - 89s 41ms/step - loss: 0.2508 - accuracy: 0.9316 - val_loss: 0.1056 - val_accuracy: 0.9741\n",
            "Epoch 2/30\n",
            "2161/2161 [==============================] - 94s 44ms/step - loss: 0.0896 - accuracy: 0.9761 - val_loss: 0.0634 - val_accuracy: 0.9836\n",
            "Epoch 3/30\n",
            "2161/2161 [==============================] - 173s 80ms/step - loss: 0.0626 - accuracy: 0.9828 - val_loss: 0.0484 - val_accuracy: 0.9877\n",
            "Epoch 4/30\n",
            "2161/2161 [==============================] - 136s 63ms/step - loss: 0.0483 - accuracy: 0.9867 - val_loss: 0.0381 - val_accuracy: 0.9893\n",
            "Epoch 5/30\n",
            "2161/2161 [==============================] - 187s 86ms/step - loss: 0.0414 - accuracy: 0.9881 - val_loss: 0.0279 - val_accuracy: 0.9918\n",
            "Epoch 6/30\n",
            "2161/2161 [==============================] - 190s 88ms/step - loss: 0.0338 - accuracy: 0.9900 - val_loss: 0.0242 - val_accuracy: 0.9928\n",
            "Epoch 7/30\n",
            "2161/2161 [==============================] - 164s 76ms/step - loss: 0.0284 - accuracy: 0.9915 - val_loss: 0.0209 - val_accuracy: 0.9943\n",
            "Epoch 8/30\n",
            "2161/2161 [==============================] - 155s 72ms/step - loss: 0.0258 - accuracy: 0.9923 - val_loss: 0.0182 - val_accuracy: 0.9943\n",
            "Epoch 9/30\n",
            "2161/2161 [==============================] - 183s 85ms/step - loss: 0.0219 - accuracy: 0.9934 - val_loss: 0.0153 - val_accuracy: 0.9950\n",
            "Epoch 10/30\n",
            "2161/2161 [==============================] - 187s 87ms/step - loss: 0.0205 - accuracy: 0.9937 - val_loss: 0.0117 - val_accuracy: 0.9970\n",
            "Epoch 11/30\n",
            "2161/2161 [==============================] - 191s 88ms/step - loss: 0.0169 - accuracy: 0.9949 - val_loss: 0.0109 - val_accuracy: 0.9971\n",
            "Epoch 12/30\n",
            "2161/2161 [==============================] - 197s 91ms/step - loss: 0.0174 - accuracy: 0.9950 - val_loss: 0.0143 - val_accuracy: 0.9956\n",
            "Epoch 13/30\n",
            "2161/2161 [==============================] - 193s 89ms/step - loss: 0.0156 - accuracy: 0.9953 - val_loss: 0.0076 - val_accuracy: 0.9976\n",
            "Epoch 14/30\n",
            "2161/2161 [==============================] - 186s 86ms/step - loss: 0.0143 - accuracy: 0.9959 - val_loss: 0.0084 - val_accuracy: 0.9982\n",
            "Epoch 15/30\n",
            "2161/2161 [==============================] - 188s 87ms/step - loss: 0.0136 - accuracy: 0.9959 - val_loss: 0.0116 - val_accuracy: 0.9966\n",
            "Epoch 16/30\n",
            "2161/2161 [==============================] - 192s 89ms/step - loss: 0.0124 - accuracy: 0.9963 - val_loss: 0.0074 - val_accuracy: 0.9979\n",
            "Epoch 17/30\n",
            "2161/2161 [==============================] - 190s 88ms/step - loss: 0.0132 - accuracy: 0.9963 - val_loss: 0.0086 - val_accuracy: 0.9975\n",
            "Epoch 18/30\n",
            "2161/2161 [==============================] - 187s 87ms/step - loss: 0.0112 - accuracy: 0.9969 - val_loss: 0.0062 - val_accuracy: 0.9982\n",
            "Epoch 19/30\n",
            "2161/2161 [==============================] - 194s 90ms/step - loss: 0.0116 - accuracy: 0.9966 - val_loss: 0.0068 - val_accuracy: 0.9978\n",
            "Epoch 20/30\n",
            "2161/2161 [==============================] - 183s 85ms/step - loss: 0.0100 - accuracy: 0.9970 - val_loss: 0.0062 - val_accuracy: 0.9987\n",
            "Epoch 21/30\n",
            "2161/2161 [==============================] - 183s 85ms/step - loss: 0.0114 - accuracy: 0.9967 - val_loss: 0.0042 - val_accuracy: 0.9989\n",
            "Epoch 22/30\n",
            "2161/2161 [==============================] - 190s 88ms/step - loss: 0.0102 - accuracy: 0.9971 - val_loss: 0.0055 - val_accuracy: 0.9983\n",
            "Epoch 23/30\n",
            "2161/2161 [==============================] - 156s 72ms/step - loss: 0.0095 - accuracy: 0.9974 - val_loss: 0.0072 - val_accuracy: 0.9980\n",
            "Epoch 24/30\n",
            "2161/2161 [==============================] - 198s 92ms/step - loss: 0.0090 - accuracy: 0.9975 - val_loss: 0.0046 - val_accuracy: 0.9986\n",
            "Epoch 25/30\n",
            "2161/2161 [==============================] - 181s 84ms/step - loss: 0.0107 - accuracy: 0.9971 - val_loss: 0.0047 - val_accuracy: 0.9988\n",
            "Epoch 26/30\n",
            "2161/2161 [==============================] - 191s 88ms/step - loss: 0.0089 - accuracy: 0.9974 - val_loss: 0.0056 - val_accuracy: 0.9986\n"
          ]
        }
      ],
      "source": [
        "callback = tf.keras.callbacks.EarlyStopping(\n",
        "    monitor = 'val_loss',\n",
        "    patience = 5,\n",
        "    restore_best_weights = True)\n",
        "\n",
        "history = classifier.fit(\n",
        "    x = clean_train, y = types_train,\n",
        "    batch_size = 64,\n",
        "    epochs = 30,\n",
        "    callbacks = [callback],\n",
        "    validation_data = (clean_test, types_test))"
      ]
    },
    {
      "cell_type": "code",
      "execution_count": 27,
      "metadata": {
        "id": "jXPT6nFfyeWS"
      },
      "outputs": [
        {
          "data": {
            "image/png": "[encoded data removed]",
            "text/plain": [
              "<Figure size 432x288 with 1 Axes>"
            ]
          },
          "metadata": {
            "needs_background": "light"
          },
          "output_type": "display_data"
        },
        {
          "data": {
            "image/png": "[encoded data removed]",
            "text/plain": [
              "<Figure size 432x288 with 1 Axes>"
            ]
          },
          "metadata": {
            "needs_background": "light"
          },
          "output_type": "display_data"
        }
      ],
      "source": [
        "def plot_accuracy(history, title):\n",
        "    plt.title(title)\n",
        "    plt.plot(history.history['accuracy'])\n",
        "    plt.plot(history.history['val_accuracy'])\n",
        "    plt.ylabel('accuracy')\n",
        "    plt.xlabel('epoch')\n",
        "    plt.legend(['train_accuracy', 'validation_accuracy'], loc='best')\n",
        "    plt.savefig(\"best_1\")\n",
        "    plt.show()\n",
        "\n",
        "def plot_loss(history,title):\n",
        "    plt.title(title)\n",
        "    plt.plot(history.history['loss'])\n",
        "    plt.plot(history.history['val_loss'])\n",
        "    plt.ylabel('loss')\n",
        "    plt.xlabel('epoch')\n",
        "    plt.legend(['train_loss', 'validation_loss'], loc='best')\n",
        "    plt.savefig(\"best_2\")\n",
        "    plt.show()\n",
        "\n",
        "plot_accuracy(history,'Classification')\n",
        "plot_loss(history,'Classification')\n"
      ]
    },
    {
      "cell_type": "markdown",
      "metadata": {
        "id": "3LJH3Km2sPFG"
      },
      "source": [
        "**save trained model**"
      ]
    },
    {
      "cell_type": "code",
      "execution_count": 14,
      "metadata": {
        "id": "fPKfHHz2sPFH"
      },
      "outputs": [],
      "source": [
        "classifier.save(\"little_helper.h5\")"
      ]
    }
  ],
  "metadata": {
    "colab": {
      "collapsed_sections": [],
      "name": "symbol_classifier_train.ipynb",
      "provenance": []
    },
    "interpreter": {
      "hash": "ad2bdc8ecc057115af97d19610ffacc2b4e99fae6737bb82f5d7fb13d2f2c186"
    },
    "kernelspec": {
      "display_name": "Python 3.8.8 ('base')",
      "language": "python",
      "name": "python3"
    },
    "language_info": {
      "codemirror_mode": {
        "name": "ipython",
        "version": 3
      },
      "file_extension": ".py",
      "mimetype": "text/x-python",
      "name": "python",
      "nbconvert_exporter": "python",
      "pygments_lexer": "ipython3",
      "version": "3.8.8"
    }
  },
  "nbformat": 4,
  "nbformat_minor": 0
}
